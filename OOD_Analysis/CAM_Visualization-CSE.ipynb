{
 "cells": [
  {
   "cell_type": "code",
   "execution_count": 1,
   "metadata": {},
   "outputs": [],
   "source": [
    "from PIL import Image\n",
    "import numpy as np\n",
    "import pandas as pd\n",
    "import cv2\n",
    "import os\n",
    "import random\n",
    "import matplotlib.pyplot as plt\n",
    "# import tensorwatch as tw\n",
    "import time\n",
    "\n",
    "import torch\n",
    "import copy\n",
    "import torch.nn as nn\n",
    "import torch.optim as optim\n",
    "from torchvision import transforms\n",
    "from torch.optim.lr_scheduler import StepLR\n",
    "\n",
    "from utils.dataset import *\n",
    "import torch.utils.data as data\n",
    "\n",
    "from utils.train import *\n",
    "from utils.test  import *\n",
    "from utils.model_select import model_select\n",
    "\n",
    "from pytorch_grad_cam import GradCAM\n",
    "from pytorch_grad_cam.utils.image import show_cam_on_image\n",
    "from pytorch_grad_cam.utils.model_targets import ClassifierOutputTarget"
   ]
  },
  {
   "cell_type": "code",
   "execution_count": 2,
   "metadata": {},
   "outputs": [],
   "source": [
    "# Training settings\n",
    "####### test作训练集 #######\n",
    "# epochs = 80\n",
    "# lr = 3e-6\n",
    "# gamma = 0.7\n",
    "# step_size = 5\n",
    "###### train作训练集 #######\n",
    "epochs = 5\n",
    "lr = 2e-6\n",
    "gamma = 0.8\n",
    "step_size = 2\n",
    "\n",
    "seed = 42\n",
    "device = 'cpu'\n",
    "\n",
    "file_Path = '/home/a611/Projects/Datasets/CSE_v1/images/'\n",
    "train_name = ['/home/a611/Projects/Datasets/CSE_v1/labels/train_aver_75.csv']\n",
    "test_name = ['/home/a611/Projects/Datasets/CSE_v1/labels/train_aver_25.csv']\n",
    "num_classes = 11\n",
    "num_input = 3\n",
    "batch_size = 16\n",
    "num_workers = 8\n",
    "########################\n",
    "# os.chdir('examples')"
   ]
  },
  {
   "cell_type": "code",
   "execution_count": 3,
   "metadata": {},
   "outputs": [],
   "source": [
    "def seed_everything(seed):\n",
    "    random.seed(seed)\n",
    "    os.environ['PYTHONHASHSEED'] = str(seed)\n",
    "    np.random.seed(seed)\n",
    "    torch.manual_seed(seed)\n",
    "    torch.cuda.manual_seed(seed)\n",
    "    torch.cuda.manual_seed_all(seed)\n",
    "    torch.backends.cudnn.deterministic = True\n",
    "\n",
    "seed_everything(seed)"
   ]
  },
  {
   "cell_type": "markdown",
   "metadata": {
    "id": "ZEIyZaYXRkZF"
   },
   "source": [
    "## Load Data"
   ]
  },
  {
   "cell_type": "code",
   "execution_count": 4,
   "metadata": {
    "id": "YKR5RaykR58x"
   },
   "outputs": [],
   "source": [
    "train_transforms = transforms.Compose(\n",
    "    [\n",
    "        transforms.RandomResizedCrop(224),\n",
    "        transforms.RandomHorizontalFlip(),\n",
    "        transforms.ToTensor(),\n",
    "    ]\n",
    ")\n",
    "\n",
    "val_transforms = transforms.Compose(\n",
    "    [\n",
    "        transforms.Resize((224, 224)),\n",
    "        transforms.ToTensor(),\n",
    "    ]\n",
    ")\n",
    "\n",
    "\n",
    "test_transforms = transforms.Compose(\n",
    "    [\n",
    "        transforms.Resize((224, 224)),\n",
    "        transforms.ToTensor(),\n",
    "    ]\n",
    ")"
   ]
  },
  {
   "cell_type": "markdown",
   "metadata": {
    "id": "b0JAXWWtSXpB"
   },
   "source": [
    "## Load Datasets"
   ]
  },
  {
   "cell_type": "code",
   "execution_count": 5,
   "metadata": {
    "id": "pC-D9a8xSZNd"
   },
   "outputs": [],
   "source": [
    "label_map = get_map(test_name)\n",
    "label_key = list(label_map.keys())\n",
    "train_set = MyDataset(file_Path, train_name, label_map,\n",
    "                            train_transforms)\n",
    "train_loader = data.DataLoader(\n",
    "    dataset=train_set, batch_size=batch_size, shuffle=True, num_workers=num_workers)\n",
    "\n",
    "valid_set = MyDataset(file_Path, test_name, label_map,\n",
    "                            val_transforms)\n",
    "valid_loader = data.DataLoader(\n",
    "    dataset=valid_set, batch_size=batch_size, shuffle=True, num_workers=num_workers)"
   ]
  },
  {
   "cell_type": "code",
   "execution_count": 6,
   "metadata": {
    "colab": {
     "base_uri": "https://localhost:8080/",
     "height": 34
    },
    "id": "JiIcaG1zSZLA",
    "outputId": "bd4d6e91-6c28-4b42-f242-246250dc55f2"
   },
   "outputs": [
    {
     "name": "stdout",
     "output_type": "stream",
     "text": [
      "557\n",
      "186\n"
     ]
    }
   ],
   "source": [
    "print(len(train_loader))\n",
    "print(len(valid_loader))"
   ]
  },
  {
   "cell_type": "markdown",
   "metadata": {
    "id": "TF9yMaRrSvmv"
   },
   "source": [
    "## Effecient Attention"
   ]
  },
  {
   "cell_type": "markdown",
   "metadata": {
    "id": "4u5YZG1eozIv"
   },
   "source": [
    "### Training"
   ]
  },
  {
   "cell_type": "code",
   "execution_count": 7,
   "metadata": {},
   "outputs": [],
   "source": [
    "model = model_select('ResNet18', num_input, 90).to(device)\n",
    "# print(model)\n",
    "model = torch.nn.DataParallel(model)\n",
    "# model_state_disk = torch.load('/home/a611/Projects/msk/fewshot_main/Model/pretrain/ResNet18/test_acc_0.743311_epoch_33', map_location = device)\n",
    "# model.load_state_dict(model_state_disk)\n",
    "model = model.module\n",
    "model.linear = torch.nn.Linear(512, num_classes)\n",
    "\n",
    "model = model.to(device)\n",
    "# print(model)\n",
    "\n",
    "# loss function\n",
    "criterion = nn.CrossEntropyLoss()\n",
    "# optimizer\n",
    "optimizer = optim.Adam(model.parameters(), lr=lr)\n",
    "# scheduler\n",
    "scheduler = StepLR(optimizer, step_size=step_size, gamma=gamma)"
   ]
  },
  {
   "cell_type": "code",
   "execution_count": 8,
   "metadata": {
    "scrolled": false
   },
   "outputs": [],
   "source": [
    "# model_ = None\n",
    "# highest_test_acc = 0\n",
    "# for i in range(epochs):\n",
    "#     # print('EPOCH:', i + 1)\n",
    "#     train_iter = iter(train_loader)\n",
    "#     test_iter = iter(valid_loader)\n",
    "#     ########################################\n",
    "#     train_loss, train_acc = train(model, device, train_iter, optimizer, train_set, batch_size)\n",
    "#     test_loss, test_acc = test(model, device, test_iter, valid_set, batch_size)\n",
    "#     scheduler.step()\n",
    "#     print( 'EPOCH: %03d, train_loss: %3f, train_acc: %3f, test_loss: %3f, test_acc: %3f'\n",
    "#           % (i + 1, train_loss, train_acc, test_loss, test_acc))\n",
    "#     if test_acc > highest_test_acc:\n",
    "#         highest_test_acc = test_acc\n",
    "#         model_ = copy.deepcopy(model)\n",
    "#         print('Highest test accuracy: %3f' % highest_test_acc)\n",
    "#         torch.save(model_, '../models/CSE_train.model')\n",
    "#     print( 'EPOCH: %03d, train_loss: %3f, train_acc: %3f' % (i + 1, train_loss, train_acc))"
   ]
  },
  {
   "cell_type": "code",
   "execution_count": 9,
   "metadata": {},
   "outputs": [],
   "source": [
    "# model = torch.load('/home/a611/Projects/gyc/Local_Features/models/CSE_train.model', map_location = device)\n",
    "# # print(model.layer4)"
   ]
  },
  {
   "cell_type": "code",
   "execution_count": 31,
   "metadata": {},
   "outputs": [],
   "source": [
    "def draw(x, output, input_type):\n",
    "    output_max = output.argmax(dim=1)\n",
    "    output_numpy = output.cpu().detach().numpy()\n",
    "    print(output_numpy.shape)\n",
    "    fig, ax = plt.subplots(figsize=(12, 8))\n",
    "    y = output_numpy[0]\n",
    "    ax.bar(x = x, height = y)\n",
    "    ax.set_title('Item: %s.' % x[int(output_max)], fontsize=15);\n",
    "    xticks = ax.get_xticks()\n",
    "    for i in range(len(y)):\n",
    "        xy = (xticks[i], y[i])\n",
    "        s = '%03f' % y[i]\n",
    "        ax.annotate(\n",
    "            text=s,  # 要添加的文本\n",
    "            xy=xy,  # 将文本添加到哪个位置\n",
    "            fontsize=8,  # 标签大小\n",
    "            color=\"red\",  # 标签颜色\n",
    "            ha=\"center\",  # 水平对齐\n",
    "            va=\"baseline\"  # 垂直对齐\n",
    "        )\n",
    "        plt.savefig(\"../results/%s_%s.jpg\" % (input_type, x[int(output_max)]))\n",
    "    return output_max\n",
    "\n",
    "def result(x, output, input_type):\n",
    "    output_max = output.argmax(dim=1)\n",
    "    print('Input: %s; Item: %s.' % (input_type, x[int(output_max)]))\n",
    "    return output_max"
   ]
  },
  {
   "cell_type": "code",
   "execution_count": 32,
   "metadata": {},
   "outputs": [
    {
     "name": "stdout",
     "output_type": "stream",
     "text": [
      "(1, 11)\n",
      "[-0.00398824 -0.01471778  0.01778925  0.05218293  0.03572224  0.01968374\n",
      " -0.01347371 -0.0342707   0.03887536  0.02515016 -0.02218518]\n"
     ]
    },
    {
     "ename": "FileNotFoundError",
     "evalue": "[Errno 2] No such file or directory: '../results/_container.jpg'",
     "output_type": "error",
     "traceback": [
      "\u001b[0;31m---------------------------------------------------------------------------\u001b[0m",
      "\u001b[0;31mFileNotFoundError\u001b[0m                         Traceback (most recent call last)",
      "\u001b[1;32m/home/a611/Projects/gyc/Local_Features/CAM_Visualization-CSE.ipynb Cell 15'\u001b[0m in \u001b[0;36m<module>\u001b[0;34m\u001b[0m\n\u001b[1;32m     <a href='vscode-notebook-cell://ssh-remote%2B192.168.1.171/home/a611/Projects/gyc/Local_Features/CAM_Visualization-CSE.ipynb#ch0000014vscode-remote?line=26'>27</a>\u001b[0m \u001b[39minput\u001b[39m \u001b[39m=\u001b[39m \u001b[39minput\u001b[39m\u001b[39m.\u001b[39mto(device)\n\u001b[1;32m     <a href='vscode-notebook-cell://ssh-remote%2B192.168.1.171/home/a611/Projects/gyc/Local_Features/CAM_Visualization-CSE.ipynb#ch0000014vscode-remote?line=27'>28</a>\u001b[0m output \u001b[39m=\u001b[39m model(\u001b[39minput\u001b[39m)\n\u001b[0;32m---> <a href='vscode-notebook-cell://ssh-remote%2B192.168.1.171/home/a611/Projects/gyc/Local_Features/CAM_Visualization-CSE.ipynb#ch0000014vscode-remote?line=28'>29</a>\u001b[0m output_max \u001b[39m=\u001b[39m draw(label_key, output,  \u001b[39m'\u001b[39;49m\u001b[39m'\u001b[39;49m)\n\u001b[1;32m     <a href='vscode-notebook-cell://ssh-remote%2B192.168.1.171/home/a611/Projects/gyc/Local_Features/CAM_Visualization-CSE.ipynb#ch0000014vscode-remote?line=29'>30</a>\u001b[0m \u001b[39m# output_max = result(label_key, output, '' )\u001b[39;00m\n\u001b[1;32m     <a href='vscode-notebook-cell://ssh-remote%2B192.168.1.171/home/a611/Projects/gyc/Local_Features/CAM_Visualization-CSE.ipynb#ch0000014vscode-remote?line=30'>31</a>\u001b[0m \u001b[39m#         output_max = draw(label_key, output, '%s, %s.' %(catagory, item))\u001b[39;00m\n\u001b[1;32m     <a href='vscode-notebook-cell://ssh-remote%2B192.168.1.171/home/a611/Projects/gyc/Local_Features/CAM_Visualization-CSE.ipynb#ch0000014vscode-remote?line=31'>32</a>\u001b[0m \u001b[39m# real_index = label_key.index(re.split('[_.]', item)[0])\u001b[39;00m\n\u001b[1;32m     <a href='vscode-notebook-cell://ssh-remote%2B192.168.1.171/home/a611/Projects/gyc/Local_Features/CAM_Visualization-CSE.ipynb#ch0000014vscode-remote?line=32'>33</a>\u001b[0m \u001b[39m#         targets = [ClassifierOutputTarget(real_index)]\u001b[39;00m\n\u001b[1;32m     <a href='vscode-notebook-cell://ssh-remote%2B192.168.1.171/home/a611/Projects/gyc/Local_Features/CAM_Visualization-CSE.ipynb#ch0000014vscode-remote?line=33'>34</a>\u001b[0m targets \u001b[39m=\u001b[39m [ClassifierOutputTarget(\u001b[39mint\u001b[39m(output_max))]\n",
      "\u001b[1;32m/home/a611/Projects/gyc/Local_Features/CAM_Visualization-CSE.ipynb Cell 14'\u001b[0m in \u001b[0;36mdraw\u001b[0;34m(x, output, input_type)\u001b[0m\n\u001b[1;32m     <a href='vscode-notebook-cell://ssh-remote%2B192.168.1.171/home/a611/Projects/gyc/Local_Features/CAM_Visualization-CSE.ipynb#ch0000013vscode-remote?line=12'>13</a>\u001b[0m     s \u001b[39m=\u001b[39m \u001b[39m'\u001b[39m\u001b[39m%03f\u001b[39;00m\u001b[39m'\u001b[39m \u001b[39m%\u001b[39m y[i]\n\u001b[1;32m     <a href='vscode-notebook-cell://ssh-remote%2B192.168.1.171/home/a611/Projects/gyc/Local_Features/CAM_Visualization-CSE.ipynb#ch0000013vscode-remote?line=13'>14</a>\u001b[0m     ax\u001b[39m.\u001b[39mannotate(\n\u001b[1;32m     <a href='vscode-notebook-cell://ssh-remote%2B192.168.1.171/home/a611/Projects/gyc/Local_Features/CAM_Visualization-CSE.ipynb#ch0000013vscode-remote?line=14'>15</a>\u001b[0m         text\u001b[39m=\u001b[39ms,  \u001b[39m# 要添加的文本\u001b[39;00m\n\u001b[1;32m     <a href='vscode-notebook-cell://ssh-remote%2B192.168.1.171/home/a611/Projects/gyc/Local_Features/CAM_Visualization-CSE.ipynb#ch0000013vscode-remote?line=15'>16</a>\u001b[0m         xy\u001b[39m=\u001b[39mxy,  \u001b[39m# 将文本添加到哪个位置\u001b[39;00m\n\u001b[0;32m   (...)\u001b[0m\n\u001b[1;32m     <a href='vscode-notebook-cell://ssh-remote%2B192.168.1.171/home/a611/Projects/gyc/Local_Features/CAM_Visualization-CSE.ipynb#ch0000013vscode-remote?line=19'>20</a>\u001b[0m         va\u001b[39m=\u001b[39m\u001b[39m\"\u001b[39m\u001b[39mbaseline\u001b[39m\u001b[39m\"\u001b[39m  \u001b[39m# 垂直对齐\u001b[39;00m\n\u001b[1;32m     <a href='vscode-notebook-cell://ssh-remote%2B192.168.1.171/home/a611/Projects/gyc/Local_Features/CAM_Visualization-CSE.ipynb#ch0000013vscode-remote?line=20'>21</a>\u001b[0m     )\n\u001b[0;32m---> <a href='vscode-notebook-cell://ssh-remote%2B192.168.1.171/home/a611/Projects/gyc/Local_Features/CAM_Visualization-CSE.ipynb#ch0000013vscode-remote?line=21'>22</a>\u001b[0m     plt\u001b[39m.\u001b[39;49msavefig(\u001b[39m\"\u001b[39;49m\u001b[39m../results/\u001b[39;49m\u001b[39m%s\u001b[39;49;00m\u001b[39m_\u001b[39;49m\u001b[39m%s\u001b[39;49;00m\u001b[39m.jpg\u001b[39;49m\u001b[39m\"\u001b[39;49m \u001b[39m%\u001b[39;49m (input_type, x[\u001b[39mint\u001b[39;49m(output_max)]))\n\u001b[1;32m     <a href='vscode-notebook-cell://ssh-remote%2B192.168.1.171/home/a611/Projects/gyc/Local_Features/CAM_Visualization-CSE.ipynb#ch0000013vscode-remote?line=22'>23</a>\u001b[0m \u001b[39mreturn\u001b[39;00m output_max\n",
      "File \u001b[0;32m~/.conda/envs/ViT/lib/python3.9/site-packages/matplotlib/pyplot.py:958\u001b[0m, in \u001b[0;36msavefig\u001b[0;34m(*args, **kwargs)\u001b[0m\n\u001b[1;32m    <a href='file:///home/a611/.conda/envs/ViT/lib/python3.9/site-packages/matplotlib/pyplot.py?line=954'>955</a>\u001b[0m \u001b[39m@_copy_docstring_and_deprecators\u001b[39m(Figure\u001b[39m.\u001b[39msavefig)\n\u001b[1;32m    <a href='file:///home/a611/.conda/envs/ViT/lib/python3.9/site-packages/matplotlib/pyplot.py?line=955'>956</a>\u001b[0m \u001b[39mdef\u001b[39;00m \u001b[39msavefig\u001b[39m(\u001b[39m*\u001b[39margs, \u001b[39m*\u001b[39m\u001b[39m*\u001b[39mkwargs):\n\u001b[1;32m    <a href='file:///home/a611/.conda/envs/ViT/lib/python3.9/site-packages/matplotlib/pyplot.py?line=956'>957</a>\u001b[0m     fig \u001b[39m=\u001b[39m gcf()\n\u001b[0;32m--> <a href='file:///home/a611/.conda/envs/ViT/lib/python3.9/site-packages/matplotlib/pyplot.py?line=957'>958</a>\u001b[0m     res \u001b[39m=\u001b[39m fig\u001b[39m.\u001b[39;49msavefig(\u001b[39m*\u001b[39;49margs, \u001b[39m*\u001b[39;49m\u001b[39m*\u001b[39;49mkwargs)\n\u001b[1;32m    <a href='file:///home/a611/.conda/envs/ViT/lib/python3.9/site-packages/matplotlib/pyplot.py?line=958'>959</a>\u001b[0m     fig\u001b[39m.\u001b[39mcanvas\u001b[39m.\u001b[39mdraw_idle()   \u001b[39m# need this if 'transparent=True' to reset colors\u001b[39;00m\n\u001b[1;32m    <a href='file:///home/a611/.conda/envs/ViT/lib/python3.9/site-packages/matplotlib/pyplot.py?line=959'>960</a>\u001b[0m     \u001b[39mreturn\u001b[39;00m res\n",
      "File \u001b[0;32m~/.conda/envs/ViT/lib/python3.9/site-packages/matplotlib/figure.py:3019\u001b[0m, in \u001b[0;36mFigure.savefig\u001b[0;34m(self, fname, transparent, **kwargs)\u001b[0m\n\u001b[1;32m   <a href='file:///home/a611/.conda/envs/ViT/lib/python3.9/site-packages/matplotlib/figure.py?line=3014'>3015</a>\u001b[0m     \u001b[39mfor\u001b[39;00m ax \u001b[39min\u001b[39;00m \u001b[39mself\u001b[39m\u001b[39m.\u001b[39maxes:\n\u001b[1;32m   <a href='file:///home/a611/.conda/envs/ViT/lib/python3.9/site-packages/matplotlib/figure.py?line=3015'>3016</a>\u001b[0m         stack\u001b[39m.\u001b[39menter_context(\n\u001b[1;32m   <a href='file:///home/a611/.conda/envs/ViT/lib/python3.9/site-packages/matplotlib/figure.py?line=3016'>3017</a>\u001b[0m             ax\u001b[39m.\u001b[39mpatch\u001b[39m.\u001b[39m_cm_set(facecolor\u001b[39m=\u001b[39m\u001b[39m'\u001b[39m\u001b[39mnone\u001b[39m\u001b[39m'\u001b[39m, edgecolor\u001b[39m=\u001b[39m\u001b[39m'\u001b[39m\u001b[39mnone\u001b[39m\u001b[39m'\u001b[39m))\n\u001b[0;32m-> <a href='file:///home/a611/.conda/envs/ViT/lib/python3.9/site-packages/matplotlib/figure.py?line=3018'>3019</a>\u001b[0m \u001b[39mself\u001b[39;49m\u001b[39m.\u001b[39;49mcanvas\u001b[39m.\u001b[39;49mprint_figure(fname, \u001b[39m*\u001b[39;49m\u001b[39m*\u001b[39;49mkwargs)\n",
      "File \u001b[0;32m~/.conda/envs/ViT/lib/python3.9/site-packages/matplotlib/backend_bases.py:2319\u001b[0m, in \u001b[0;36mFigureCanvasBase.print_figure\u001b[0;34m(self, filename, dpi, facecolor, edgecolor, orientation, format, bbox_inches, pad_inches, bbox_extra_artists, backend, **kwargs)\u001b[0m\n\u001b[1;32m   <a href='file:///home/a611/.conda/envs/ViT/lib/python3.9/site-packages/matplotlib/backend_bases.py?line=2314'>2315</a>\u001b[0m \u001b[39mtry\u001b[39;00m:\n\u001b[1;32m   <a href='file:///home/a611/.conda/envs/ViT/lib/python3.9/site-packages/matplotlib/backend_bases.py?line=2315'>2316</a>\u001b[0m     \u001b[39m# _get_renderer may change the figure dpi (as vector formats\u001b[39;00m\n\u001b[1;32m   <a href='file:///home/a611/.conda/envs/ViT/lib/python3.9/site-packages/matplotlib/backend_bases.py?line=2316'>2317</a>\u001b[0m     \u001b[39m# force the figure dpi to 72), so we need to set it again here.\u001b[39;00m\n\u001b[1;32m   <a href='file:///home/a611/.conda/envs/ViT/lib/python3.9/site-packages/matplotlib/backend_bases.py?line=2317'>2318</a>\u001b[0m     \u001b[39mwith\u001b[39;00m cbook\u001b[39m.\u001b[39m_setattr_cm(\u001b[39mself\u001b[39m\u001b[39m.\u001b[39mfigure, dpi\u001b[39m=\u001b[39mdpi):\n\u001b[0;32m-> <a href='file:///home/a611/.conda/envs/ViT/lib/python3.9/site-packages/matplotlib/backend_bases.py?line=2318'>2319</a>\u001b[0m         result \u001b[39m=\u001b[39m print_method(\n\u001b[1;32m   <a href='file:///home/a611/.conda/envs/ViT/lib/python3.9/site-packages/matplotlib/backend_bases.py?line=2319'>2320</a>\u001b[0m             filename,\n\u001b[1;32m   <a href='file:///home/a611/.conda/envs/ViT/lib/python3.9/site-packages/matplotlib/backend_bases.py?line=2320'>2321</a>\u001b[0m             facecolor\u001b[39m=\u001b[39;49mfacecolor,\n\u001b[1;32m   <a href='file:///home/a611/.conda/envs/ViT/lib/python3.9/site-packages/matplotlib/backend_bases.py?line=2321'>2322</a>\u001b[0m             edgecolor\u001b[39m=\u001b[39;49medgecolor,\n\u001b[1;32m   <a href='file:///home/a611/.conda/envs/ViT/lib/python3.9/site-packages/matplotlib/backend_bases.py?line=2322'>2323</a>\u001b[0m             orientation\u001b[39m=\u001b[39;49morientation,\n\u001b[1;32m   <a href='file:///home/a611/.conda/envs/ViT/lib/python3.9/site-packages/matplotlib/backend_bases.py?line=2323'>2324</a>\u001b[0m             bbox_inches_restore\u001b[39m=\u001b[39;49m_bbox_inches_restore,\n\u001b[1;32m   <a href='file:///home/a611/.conda/envs/ViT/lib/python3.9/site-packages/matplotlib/backend_bases.py?line=2324'>2325</a>\u001b[0m             \u001b[39m*\u001b[39;49m\u001b[39m*\u001b[39;49mkwargs)\n\u001b[1;32m   <a href='file:///home/a611/.conda/envs/ViT/lib/python3.9/site-packages/matplotlib/backend_bases.py?line=2325'>2326</a>\u001b[0m \u001b[39mfinally\u001b[39;00m:\n\u001b[1;32m   <a href='file:///home/a611/.conda/envs/ViT/lib/python3.9/site-packages/matplotlib/backend_bases.py?line=2326'>2327</a>\u001b[0m     \u001b[39mif\u001b[39;00m bbox_inches \u001b[39mand\u001b[39;00m restore_bbox:\n",
      "File \u001b[0;32m~/.conda/envs/ViT/lib/python3.9/site-packages/matplotlib/backend_bases.py:1648\u001b[0m, in \u001b[0;36m_check_savefig_extra_args.<locals>.wrapper\u001b[0;34m(*args, **kwargs)\u001b[0m\n\u001b[1;32m   <a href='file:///home/a611/.conda/envs/ViT/lib/python3.9/site-packages/matplotlib/backend_bases.py?line=1639'>1640</a>\u001b[0m     _api\u001b[39m.\u001b[39mwarn_deprecated(\n\u001b[1;32m   <a href='file:///home/a611/.conda/envs/ViT/lib/python3.9/site-packages/matplotlib/backend_bases.py?line=1640'>1641</a>\u001b[0m         \u001b[39m'\u001b[39m\u001b[39m3.3\u001b[39m\u001b[39m'\u001b[39m, name\u001b[39m=\u001b[39mname, removal\u001b[39m=\u001b[39m\u001b[39m'\u001b[39m\u001b[39m3.6\u001b[39m\u001b[39m'\u001b[39m,\n\u001b[1;32m   <a href='file:///home/a611/.conda/envs/ViT/lib/python3.9/site-packages/matplotlib/backend_bases.py?line=1641'>1642</a>\u001b[0m         message\u001b[39m=\u001b[39m\u001b[39m'\u001b[39m\u001b[39m%(name)s\u001b[39;00m\u001b[39m() got unexpected keyword argument \u001b[39m\u001b[39m\"\u001b[39m\u001b[39m'\u001b[39m\n\u001b[1;32m   <a href='file:///home/a611/.conda/envs/ViT/lib/python3.9/site-packages/matplotlib/backend_bases.py?line=1642'>1643</a>\u001b[0m                 \u001b[39m+\u001b[39m arg \u001b[39m+\u001b[39m \u001b[39m'\u001b[39m\u001b[39m\"\u001b[39m\u001b[39m which is no longer supported as of \u001b[39m\u001b[39m'\u001b[39m\n\u001b[1;32m   <a href='file:///home/a611/.conda/envs/ViT/lib/python3.9/site-packages/matplotlib/backend_bases.py?line=1643'>1644</a>\u001b[0m                 \u001b[39m'\u001b[39m\u001b[39m%(since)s\u001b[39;00m\u001b[39m and will become an error \u001b[39m\u001b[39m'\u001b[39m\n\u001b[1;32m   <a href='file:///home/a611/.conda/envs/ViT/lib/python3.9/site-packages/matplotlib/backend_bases.py?line=1644'>1645</a>\u001b[0m                 \u001b[39m'\u001b[39m\u001b[39m%(removal)s\u001b[39;00m\u001b[39m'\u001b[39m)\n\u001b[1;32m   <a href='file:///home/a611/.conda/envs/ViT/lib/python3.9/site-packages/matplotlib/backend_bases.py?line=1645'>1646</a>\u001b[0m     kwargs\u001b[39m.\u001b[39mpop(arg)\n\u001b[0;32m-> <a href='file:///home/a611/.conda/envs/ViT/lib/python3.9/site-packages/matplotlib/backend_bases.py?line=1647'>1648</a>\u001b[0m \u001b[39mreturn\u001b[39;00m func(\u001b[39m*\u001b[39;49margs, \u001b[39m*\u001b[39;49m\u001b[39m*\u001b[39;49mkwargs)\n",
      "File \u001b[0;32m~/.conda/envs/ViT/lib/python3.9/site-packages/matplotlib/_api/deprecation.py:412\u001b[0m, in \u001b[0;36mdelete_parameter.<locals>.wrapper\u001b[0;34m(*inner_args, **inner_kwargs)\u001b[0m\n\u001b[1;32m    <a href='file:///home/a611/.conda/envs/ViT/lib/python3.9/site-packages/matplotlib/_api/deprecation.py?line=401'>402</a>\u001b[0m     deprecation_addendum \u001b[39m=\u001b[39m (\n\u001b[1;32m    <a href='file:///home/a611/.conda/envs/ViT/lib/python3.9/site-packages/matplotlib/_api/deprecation.py?line=402'>403</a>\u001b[0m         \u001b[39mf\u001b[39m\u001b[39m\"\u001b[39m\u001b[39mIf any parameter follows \u001b[39m\u001b[39m{\u001b[39;00mname\u001b[39m!r}\u001b[39;00m\u001b[39m, they should be passed as \u001b[39m\u001b[39m\"\u001b[39m\n\u001b[1;32m    <a href='file:///home/a611/.conda/envs/ViT/lib/python3.9/site-packages/matplotlib/_api/deprecation.py?line=403'>404</a>\u001b[0m         \u001b[39mf\u001b[39m\u001b[39m\"\u001b[39m\u001b[39mkeyword, not positionally.\u001b[39m\u001b[39m\"\u001b[39m)\n\u001b[1;32m    <a href='file:///home/a611/.conda/envs/ViT/lib/python3.9/site-packages/matplotlib/_api/deprecation.py?line=404'>405</a>\u001b[0m     warn_deprecated(\n\u001b[1;32m    <a href='file:///home/a611/.conda/envs/ViT/lib/python3.9/site-packages/matplotlib/_api/deprecation.py?line=405'>406</a>\u001b[0m         since,\n\u001b[1;32m    <a href='file:///home/a611/.conda/envs/ViT/lib/python3.9/site-packages/matplotlib/_api/deprecation.py?line=406'>407</a>\u001b[0m         name\u001b[39m=\u001b[39m\u001b[39mrepr\u001b[39m(name),\n\u001b[0;32m   (...)\u001b[0m\n\u001b[1;32m    <a href='file:///home/a611/.conda/envs/ViT/lib/python3.9/site-packages/matplotlib/_api/deprecation.py?line=409'>410</a>\u001b[0m                  \u001b[39melse\u001b[39;00m deprecation_addendum,\n\u001b[1;32m    <a href='file:///home/a611/.conda/envs/ViT/lib/python3.9/site-packages/matplotlib/_api/deprecation.py?line=410'>411</a>\u001b[0m         \u001b[39m*\u001b[39m\u001b[39m*\u001b[39mkwargs)\n\u001b[0;32m--> <a href='file:///home/a611/.conda/envs/ViT/lib/python3.9/site-packages/matplotlib/_api/deprecation.py?line=411'>412</a>\u001b[0m \u001b[39mreturn\u001b[39;00m func(\u001b[39m*\u001b[39;49minner_args, \u001b[39m*\u001b[39;49m\u001b[39m*\u001b[39;49minner_kwargs)\n",
      "File \u001b[0;32m~/.conda/envs/ViT/lib/python3.9/site-packages/matplotlib/backends/backend_agg.py:583\u001b[0m, in \u001b[0;36mFigureCanvasAgg.print_jpg\u001b[0;34m(self, filename_or_obj, pil_kwargs, *args, **kwargs)\u001b[0m\n\u001b[1;32m    <a href='file:///home/a611/.conda/envs/ViT/lib/python3.9/site-packages/matplotlib/backends/backend_agg.py?line=580'>581</a>\u001b[0m pil_kwargs\u001b[39m.\u001b[39msetdefault(\u001b[39m\"\u001b[39m\u001b[39mdpi\u001b[39m\u001b[39m\"\u001b[39m, (\u001b[39mself\u001b[39m\u001b[39m.\u001b[39mfigure\u001b[39m.\u001b[39mdpi, \u001b[39mself\u001b[39m\u001b[39m.\u001b[39mfigure\u001b[39m.\u001b[39mdpi))\n\u001b[1;32m    <a href='file:///home/a611/.conda/envs/ViT/lib/python3.9/site-packages/matplotlib/backends/backend_agg.py?line=581'>582</a>\u001b[0m \u001b[39m# Drop alpha channel now.\u001b[39;00m\n\u001b[0;32m--> <a href='file:///home/a611/.conda/envs/ViT/lib/python3.9/site-packages/matplotlib/backends/backend_agg.py?line=582'>583</a>\u001b[0m \u001b[39mreturn\u001b[39;00m (Image\u001b[39m.\u001b[39;49mfromarray(np\u001b[39m.\u001b[39;49masarray(\u001b[39mself\u001b[39;49m\u001b[39m.\u001b[39;49mbuffer_rgba())[\u001b[39m.\u001b[39;49m\u001b[39m.\u001b[39;49m\u001b[39m.\u001b[39;49m, :\u001b[39m3\u001b[39;49m])\n\u001b[1;32m    <a href='file:///home/a611/.conda/envs/ViT/lib/python3.9/site-packages/matplotlib/backends/backend_agg.py?line=583'>584</a>\u001b[0m         \u001b[39m.\u001b[39;49msave(filename_or_obj, \u001b[39mformat\u001b[39;49m\u001b[39m=\u001b[39;49m\u001b[39m'\u001b[39;49m\u001b[39mjpeg\u001b[39;49m\u001b[39m'\u001b[39;49m, \u001b[39m*\u001b[39;49m\u001b[39m*\u001b[39;49mpil_kwargs))\n",
      "File \u001b[0;32m~/.conda/envs/ViT/lib/python3.9/site-packages/PIL/Image.py:2209\u001b[0m, in \u001b[0;36mImage.save\u001b[0;34m(self, fp, format, **params)\u001b[0m\n\u001b[1;32m   <a href='file:///home/a611/.conda/envs/ViT/lib/python3.9/site-packages/PIL/Image.py?line=2206'>2207</a>\u001b[0m         fp \u001b[39m=\u001b[39m builtins\u001b[39m.\u001b[39mopen(filename, \u001b[39m\"\u001b[39m\u001b[39mr+b\u001b[39m\u001b[39m\"\u001b[39m)\n\u001b[1;32m   <a href='file:///home/a611/.conda/envs/ViT/lib/python3.9/site-packages/PIL/Image.py?line=2207'>2208</a>\u001b[0m     \u001b[39melse\u001b[39;00m:\n\u001b[0;32m-> <a href='file:///home/a611/.conda/envs/ViT/lib/python3.9/site-packages/PIL/Image.py?line=2208'>2209</a>\u001b[0m         fp \u001b[39m=\u001b[39m builtins\u001b[39m.\u001b[39;49mopen(filename, \u001b[39m\"\u001b[39;49m\u001b[39mw+b\u001b[39;49m\u001b[39m\"\u001b[39;49m)\n\u001b[1;32m   <a href='file:///home/a611/.conda/envs/ViT/lib/python3.9/site-packages/PIL/Image.py?line=2210'>2211</a>\u001b[0m \u001b[39mtry\u001b[39;00m:\n\u001b[1;32m   <a href='file:///home/a611/.conda/envs/ViT/lib/python3.9/site-packages/PIL/Image.py?line=2211'>2212</a>\u001b[0m     save_handler(\u001b[39mself\u001b[39m, fp, filename)\n",
      "\u001b[0;31mFileNotFoundError\u001b[0m: [Errno 2] No such file or directory: '../results/_container.jpg'"
     ]
    },
    {
     "data": {
      "image/png": "[encoded data removed]",
      "text/plain": [
       "<Figure size 864x576 with 1 Axes>"
      ]
     },
     "metadata": {
      "needs_background": "light"
     },
     "output_type": "display_data"
    }
   ],
   "source": [
    "import re\n",
    "device = 'cpu'\n",
    "model.eval()\n",
    "model.to(device)\n",
    "target_layers = [model.layer4[-1]]\n",
    "cam = GradCAM(model=model, target_layers=target_layers, use_cuda=False)\n",
    "#########################################\n",
    "# # for input_file_name in os.listdir('inputs'):\n",
    "# input_file_name = 'doll_86.jpg'\n",
    "# image_name = os.path.join('inputs',input_file_name)\n",
    "# image = Image.open(image_name)\n",
    "# img = image.resize((224, 224))\n",
    "# input = test_transforms(image).unsqueeze(0)\n",
    "# input = input.to(device)\n",
    "# output = model(input)\n",
    "# # output_max = draw(label_key, output)\n",
    "# output_max = result(label_key, output, 'origin')\n",
    "# output_max = draw(label_key, output, 'origin')\n",
    "\n",
    "root_dir = '../sample_pairs'\n",
    "\n",
    "\n",
    "image_name = 'doll_1_pitch0_chess_position0_angle45.jpeg'\n",
    "image = Image.open(image_name)\n",
    "img = image.resize((224, 224))\n",
    "input = test_transforms(image).unsqueeze(0)\n",
    "input = input.to(device)\n",
    "output = model(input)\n",
    "output_max = draw(label_key, output,  '')\n",
    "# output_max = result(label_key, output, '' )\n",
    "#         output_max = draw(label_key, output, '%s, %s.' %(catagory, item))\n",
    "# real_index = label_key.index(re.split('[_.]', item)[0])\n",
    "#         targets = [ClassifierOutputTarget(real_index)]\n",
    "targets = [ClassifierOutputTarget(int(output_max))]\n",
    "grayscale_cam = cam(input_tensor=input, targets = targets)\n",
    "grayscale_cam = grayscale_cam[0, :]\n",
    "image = np.array(image, dtype=np.float32) / 255\n",
    "grayscale_cam = cv2.resize(grayscale_cam, (image.shape[1], image.shape[0]))\n",
    "visualization = show_cam_on_image(image, grayscale_cam, use_rgb=True)\n",
    "\n",
    "im = Image.fromarray(visualization)\n",
    "\n",
    "im.save(\"output_doll.jpg\")\n",
    "# im.save('../results/%s_%s_%s.jpg' % (catagory, item.split('.')[0], label_key[int(output_max)]))\n",
    "        "
   ]
  },
  {
   "cell_type": "code",
   "execution_count": null,
   "metadata": {},
   "outputs": [],
   "source": []
  },
  {
   "cell_type": "code",
   "execution_count": 12,
   "metadata": {},
   "outputs": [],
   "source": [
    "# import re\n",
    "# device = 'cpu'\n",
    "# model.eval()\n",
    "# model.to(device)\n",
    "# target_layers = [model.layer4[-1]]\n",
    "# cam = GradCAM(model=model, target_layers=target_layers, use_cuda=False)\n",
    "# #########################################\n",
    "# # # for input_file_name in os.listdir('inputs'):\n",
    "# # input_file_name = 'doll_86.jpg'\n",
    "# # image_name = os.path.join('inputs',input_file_name)\n",
    "# # image = Image.open(image_name)\n",
    "# # img = image.resize((224, 224))\n",
    "# # input = test_transforms(image).unsqueeze(0)\n",
    "# # input = input.to(device)\n",
    "# # output = model(input)\n",
    "# # # output_max = draw(label_key, output)\n",
    "# # output_max = result(label_key, output, 'origin')\n",
    "# # output_max = draw(label_key, output, 'origin')\n",
    "\n",
    "# root_dir = '../sample_pairs'\n",
    "\n",
    "# catagories = os.listdir(root_dir)\n",
    "# catagories.sort()\n",
    "# for catagory in catagories:\n",
    "#     acc = 0\n",
    "#     total = 0\n",
    "#     print('###################### %s ######################' % catagory)\n",
    "#     items = os.listdir(os.path.join(root_dir, catagory))\n",
    "#     items.sort()\n",
    "#     for item in items:\n",
    "#         image_name = os.path.join(root_dir, catagory, item)\n",
    "#         image = Image.open(image_name)\n",
    "#         img = image.resize((224, 224))\n",
    "#         input = test_transforms(image).unsqueeze(0)\n",
    "#         input = input.to(device)\n",
    "#         output = model(input)\n",
    "#         # output_max = draw(label_key, output)\n",
    "#         output_max = result(label_key, output, '%s, %s.' %(catagory, item))\n",
    "# #         output_max = draw(label_key, output, '%s, %s.' %(catagory, item))\n",
    "#         real_index = label_key.index(re.split('[_.]', item)[0])\n",
    "# #         targets = [ClassifierOutputTarget(real_index)]\n",
    "#         targets = [ClassifierOutputTarget(int(output_max))]\n",
    "#         grayscale_cam = cam(input_tensor=input, targets = targets)\n",
    "#         grayscale_cam = grayscale_cam[0, :]\n",
    "#         image = np.array(image, dtype=np.float32) / 255\n",
    "#         grayscale_cam = cv2.resize(grayscale_cam, (image.shape[1], image.shape[0]))\n",
    "#         visualization = show_cam_on_image(image, grayscale_cam, use_rgb=True)\n",
    "        \n",
    "#         im = Image.fromarray(visualization)\n",
    "        \n",
    "#         im.save(\"../output.jpg\")\n",
    "#         im.save('../results/%s_%s_%s.jpg' % (catagory, item.split('.')[0], label_key[int(output_max)]))\n",
    "\n",
    "#         if re.split('[_.]', item)[0] == label_key[int(output_max)]:\n",
    "#             acc += 1\n",
    "#         total += 1\n",
    "#         time.sleep(1)\n",
    "#     if total:\n",
    "#         print('---------------------- Acc: {}%. ----------------------'.format(format(acc/total * 100, '.2f')))\n",
    "        \n",
    "        "
   ]
  },
  {
   "cell_type": "code",
   "execution_count": null,
   "metadata": {},
   "outputs": [],
   "source": []
  }
 ],
 "metadata": {
  "interpreter": {
   "hash": "db547acdbe0d8c01ab0f92785cee0c5ffdcae5ee11abcdf1f9927c721543542e"
  },
  "kernelspec": {
   "display_name": "Python 3 (ipykernel)",
   "language": "python",
   "name": "python3"
  },
  "language_info": {
   "codemirror_mode": {
    "name": "ipython",
    "version": 3
   },
   "file_extension": ".py",
   "mimetype": "text/x-python",
   "name": "python",
   "nbconvert_exporter": "python",
   "pygments_lexer": "ipython3",
   "version": "3.9.10"
  }
 },
 "nbformat": 4,
 "nbformat_minor": 2
}
