{
 "cells": [
  {
   "cell_type": "code",
   "execution_count": 1,
   "metadata": {},
   "outputs": [],
   "source": [
    "from PIL import Image\n",
    "import numpy as np\n",
    "import pandas as pd\n",
    "import cv2\n",
    "import os\n",
    "import random\n",
    "import matplotlib.pyplot as plt\n",
    "# import tensorwatch as tw\n",
    "\n",
    "import torch\n",
    "import copy\n",
    "import torch.nn as nn\n",
    "import torch.optim as optim\n",
    "from torchvision import transforms\n",
    "from torch.optim.lr_scheduler import StepLR\n",
    "\n",
    "from utils.dataset import *\n",
    "import torch.utils.data as data\n",
    "\n",
    "from utils.train import *\n",
    "from utils.test  import *\n",
    "from vit_rollout import VITAttentionRollout\n",
    "import time"
   ]
  },
  {
   "cell_type": "code",
   "execution_count": 2,
   "metadata": {},
   "outputs": [],
   "source": [
    "# Training settings\n",
    "####### test作训练集 #######\n",
    "# epochs = 80\n",
    "# lr = 3e-6\n",
    "# gamma = 0.7\n",
    "# step_size = 5\n",
    "###### train作训练集 #######\n",
    "epochs = 300\n",
    "lr = 1.25e-4\n",
    "gamma = 0.5\n",
    "step_size = 5\n",
    "\n",
    "seed = 42\n",
    "device = 'cuda:1'\n",
    "\n",
    "file_Path = '/home/a611/Projects/Datasets/mini-imagenet/images/'\n",
    "train_name = ['/home/a611/Projects/Datasets/mini-imagenet/pre_train.csv']\n",
    "test_name = ['/home/a611/Projects/Datasets/mini-imagenet/pre_test.csv']\n",
    "num_classes = 90\n",
    "num_input = 3\n",
    "batch_size = 128\n",
    "num_workers = 8\n",
    "########################\n",
    "os.chdir('examples')"
   ]
  },
  {
   "cell_type": "code",
   "execution_count": 3,
   "metadata": {
    "scrolled": true
   },
   "outputs": [
    {
     "name": "stderr",
     "output_type": "stream",
     "text": [
      "Using cache found in /home/a611/.cache/torch/hub/facebookresearch_deit_main\n"
     ]
    }
   ],
   "source": [
    "# from tensorboardX import SummaryWriter\n",
    "# writer = SummaryWriter('log') #建立一个保存数据用的东西\n",
    "model = torch.hub.load('facebookresearch/deit:main', \n",
    "    'deit_tiny_patch16_224', pretrained=True)\n",
    "model.head = nn.Linear(in_features = model.head.in_features, out_features = num_classes, bias = True)\n",
    "model.to(device);"
   ]
  },
  {
   "cell_type": "code",
   "execution_count": 4,
   "metadata": {},
   "outputs": [],
   "source": [
    "def seed_everything(seed):\n",
    "    random.seed(seed)\n",
    "    os.environ['PYTHONHASHSEED'] = str(seed)\n",
    "    np.random.seed(seed)\n",
    "    torch.manual_seed(seed)\n",
    "    torch.cuda.manual_seed(seed)\n",
    "    torch.cuda.manual_seed_all(seed)\n",
    "    torch.backends.cudnn.deterministic = True\n",
    "\n",
    "seed_everything(seed)"
   ]
  },
  {
   "cell_type": "markdown",
   "metadata": {
    "id": "ZEIyZaYXRkZF"
   },
   "source": [
    "## Load Data"
   ]
  },
  {
   "cell_type": "code",
   "execution_count": 5,
   "metadata": {
    "id": "YKR5RaykR58x"
   },
   "outputs": [],
   "source": [
    "train_transforms = transforms.Compose(\n",
    "    [\n",
    "        transforms.RandomResizedCrop(224),\n",
    "        transforms.RandomHorizontalFlip(),\n",
    "        transforms.Resize((224, 224)),\n",
    "        transforms.ToTensor(),\n",
    "    ]\n",
    ")\n",
    "\n",
    "val_transforms = transforms.Compose(\n",
    "    [\n",
    "        transforms.Resize((224, 224)),\n",
    "        transforms.ToTensor(),\n",
    "    ]\n",
    ")\n",
    "\n",
    "\n",
    "test_transforms = transforms.Compose(\n",
    "    [\n",
    "        transforms.Resize((224, 224)),\n",
    "        transforms.ToTensor(),\n",
    "    ]\n",
    ")"
   ]
  },
  {
   "cell_type": "markdown",
   "metadata": {
    "id": "b0JAXWWtSXpB"
   },
   "source": [
    "## Load Datasets"
   ]
  },
  {
   "cell_type": "code",
   "execution_count": 6,
   "metadata": {
    "id": "pC-D9a8xSZNd"
   },
   "outputs": [],
   "source": [
    "label_map = get_map(test_name)\n",
    "label_key = list(label_map.keys())\n",
    "train_set = MyDataset(file_Path, train_name, label_map,\n",
    "                            train_transforms)\n",
    "train_loader = data.DataLoader(\n",
    "    dataset=train_set, batch_size=batch_size, shuffle=True, num_workers=num_workers)\n",
    "\n",
    "valid_set = MyDataset(file_Path, test_name, label_map,\n",
    "                            val_transforms)\n",
    "valid_loader = data.DataLoader(\n",
    "    dataset=valid_set, batch_size=batch_size, shuffle=True, num_workers=num_workers)"
   ]
  },
  {
   "cell_type": "code",
   "execution_count": 7,
   "metadata": {
    "colab": {
     "base_uri": "https://localhost:8080/",
     "height": 34
    },
    "id": "JiIcaG1zSZLA",
    "outputId": "bd4d6e91-6c28-4b42-f242-246250dc55f2"
   },
   "outputs": [
    {
     "name": "stdout",
     "output_type": "stream",
     "text": [
      "352\n",
      "71\n"
     ]
    }
   ],
   "source": [
    "print(len(train_loader))\n",
    "print(len(valid_loader))"
   ]
  },
  {
   "cell_type": "markdown",
   "metadata": {
    "id": "TF9yMaRrSvmv"
   },
   "source": [
    "## Effecient Attention"
   ]
  },
  {
   "cell_type": "markdown",
   "metadata": {
    "id": "4u5YZG1eozIv"
   },
   "source": [
    "### Training"
   ]
  },
  {
   "cell_type": "code",
   "execution_count": 8,
   "metadata": {},
   "outputs": [],
   "source": [
    "# loss function\n",
    "criterion = nn.CrossEntropyLoss()\n",
    "# optimizer\n",
    "optimizer = optim.Adam(model.parameters(), lr=lr)\n",
    "# scheduler\n",
    "scheduler = StepLR(optimizer, step_size=step_size, gamma=gamma)"
   ]
  },
  {
   "cell_type": "code",
   "execution_count": 9,
   "metadata": {
    "scrolled": false
   },
   "outputs": [
    {
     "data": {
      "application/vnd.jupyter.widget-view+json": {
       "model_id": "",
       "version_major": 2,
       "version_minor": 0
      },
      "text/plain": [
       "  0%|          | 0/352 [00:00<?, ?it/s]"
      ]
     },
     "metadata": {},
     "output_type": "display_data"
    },
    {
     "data": {
      "application/vnd.jupyter.widget-view+json": {
       "model_id": "",
       "version_major": 2,
       "version_minor": 0
      },
      "text/plain": [
       "  0%|          | 0/71 [00:00<?, ?it/s]"
      ]
     },
     "metadata": {},
     "output_type": "display_data"
    },
    {
     "name": "stdout",
     "output_type": "stream",
     "text": [
      "EPOCH: 001, train_loss: 1.310960, train_acc: 0.686790, test_loss: 0.596098, test_acc: 0.842033\n",
      "Highest test accuracy: 0.842033\n"
     ]
    },
    {
     "data": {
      "application/vnd.jupyter.widget-view+json": {
       "model_id": "",
       "version_major": 2,
       "version_minor": 0
      },
      "text/plain": [
       "  0%|          | 0/352 [00:00<?, ?it/s]"
      ]
     },
     "metadata": {},
     "output_type": "display_data"
    },
    {
     "data": {
      "application/vnd.jupyter.widget-view+json": {
       "model_id": "",
       "version_major": 2,
       "version_minor": 0
      },
      "text/plain": [
       "  0%|          | 0/71 [00:00<?, ?it/s]"
      ]
     },
     "metadata": {},
     "output_type": "display_data"
    },
    {
     "name": "stdout",
     "output_type": "stream",
     "text": [
      "EPOCH: 002, train_loss: 0.717768, train_acc: 0.808451, test_loss: 0.528536, test_acc: 0.854820\n",
      "Highest test accuracy: 0.854820\n"
     ]
    },
    {
     "data": {
      "application/vnd.jupyter.widget-view+json": {
       "model_id": "",
       "version_major": 2,
       "version_minor": 0
      },
      "text/plain": [
       "  0%|          | 0/352 [00:00<?, ?it/s]"
      ]
     },
     "metadata": {},
     "output_type": "display_data"
    },
    {
     "data": {
      "application/vnd.jupyter.widget-view+json": {
       "model_id": "",
       "version_major": 2,
       "version_minor": 0
      },
      "text/plain": [
       "  0%|          | 0/71 [00:00<?, ?it/s]"
      ]
     },
     "metadata": {},
     "output_type": "display_data"
    },
    {
     "name": "stdout",
     "output_type": "stream",
     "text": [
      "EPOCH: 003, train_loss: 0.634529, train_acc: 0.829607, test_loss: 0.515335, test_acc: 0.856932\n",
      "Highest test accuracy: 0.856932\n"
     ]
    },
    {
     "data": {
      "application/vnd.jupyter.widget-view+json": {
       "model_id": "",
       "version_major": 2,
       "version_minor": 0
      },
      "text/plain": [
       "  0%|          | 0/352 [00:00<?, ?it/s]"
      ]
     },
     "metadata": {},
     "output_type": "display_data"
    },
    {
     "data": {
      "application/vnd.jupyter.widget-view+json": {
       "model_id": "fca96cc551cc4e41b27953d3cb46d577",
       "version_major": 2,
       "version_minor": 0
      },
      "text/plain": [
       "  0%|          | 0/71 [00:00<?, ?it/s]"
      ]
     },
     "metadata": {},
     "output_type": "display_data"
    },
    {
     "ename": "KeyboardInterrupt",
     "evalue": "",
     "output_type": "error",
     "traceback": [
      "\u001b[0;31m---------------------------------------------------------------------------\u001b[0m",
      "\u001b[0;31mKeyboardInterrupt\u001b[0m                         Traceback (most recent call last)",
      "Input \u001b[0;32mIn [9]\u001b[0m, in \u001b[0;36m<module>\u001b[0;34m\u001b[0m\n\u001b[1;32m      7\u001b[0m \u001b[38;5;66;03m########################################\u001b[39;00m\n\u001b[1;32m      8\u001b[0m train_loss, train_acc \u001b[38;5;241m=\u001b[39m train(model, device, train_iter, optimizer, train_set, batch_size)\n\u001b[0;32m----> 9\u001b[0m test_loss, test_acc \u001b[38;5;241m=\u001b[39m \u001b[43mtest\u001b[49m\u001b[43m(\u001b[49m\u001b[43mmodel\u001b[49m\u001b[43m,\u001b[49m\u001b[43m \u001b[49m\u001b[43mdevice\u001b[49m\u001b[43m,\u001b[49m\u001b[43m \u001b[49m\u001b[43mtest_iter\u001b[49m\u001b[43m,\u001b[49m\u001b[43m \u001b[49m\u001b[43mvalid_set\u001b[49m\u001b[43m,\u001b[49m\u001b[43m \u001b[49m\u001b[43mbatch_size\u001b[49m\u001b[43m)\u001b[49m\n\u001b[1;32m     10\u001b[0m scheduler\u001b[38;5;241m.\u001b[39mstep()\n\u001b[1;32m     11\u001b[0m \u001b[38;5;28mprint\u001b[39m( \u001b[38;5;124m'\u001b[39m\u001b[38;5;124mEPOCH: \u001b[39m\u001b[38;5;132;01m%03d\u001b[39;00m\u001b[38;5;124m, train_loss: \u001b[39m\u001b[38;5;132;01m%3f\u001b[39;00m\u001b[38;5;124m, train_acc: \u001b[39m\u001b[38;5;132;01m%3f\u001b[39;00m\u001b[38;5;124m, test_loss: \u001b[39m\u001b[38;5;132;01m%3f\u001b[39;00m\u001b[38;5;124m, test_acc: \u001b[39m\u001b[38;5;132;01m%3f\u001b[39;00m\u001b[38;5;124m'\u001b[39m\n\u001b[1;32m     12\u001b[0m       \u001b[38;5;241m%\u001b[39m (i \u001b[38;5;241m+\u001b[39m \u001b[38;5;241m1\u001b[39m, train_loss, train_acc, test_loss, test_acc))\n",
      "File \u001b[0;32m~/Projects/gyc/Local_Features/utils/test.py:43\u001b[0m, in \u001b[0;36mtest\u001b[0;34m(model, device, dataiter, test_set, batch_size)\u001b[0m\n\u001b[1;32m     41\u001b[0m \u001b[38;5;28;01mfor\u001b[39;00m iteration \u001b[38;5;129;01min\u001b[39;00m tqdm(\u001b[38;5;28mrange\u001b[39m(iter_times), leave \u001b[38;5;241m=\u001b[39m \u001b[38;5;28;01mFalse\u001b[39;00m):\n\u001b[1;32m     42\u001b[0m     input_data, label, names, label_names \u001b[38;5;241m=\u001b[39m \u001b[38;5;28mnext\u001b[39m(dataiter)\n\u001b[0;32m---> 43\u001b[0m     input_data \u001b[38;5;241m=\u001b[39m \u001b[43minput_data\u001b[49m\u001b[38;5;241;43m.\u001b[39;49m\u001b[43mclone\u001b[49m\u001b[43m(\u001b[49m\u001b[43m)\u001b[49m\u001b[38;5;241m.\u001b[39mdetach()\u001b[38;5;241m.\u001b[39mfloat()\u001b[38;5;241m.\u001b[39mto(device)\n\u001b[1;32m     44\u001b[0m     label \u001b[38;5;241m=\u001b[39m label\u001b[38;5;241m.\u001b[39mclone()\u001b[38;5;241m.\u001b[39mdetach()\u001b[38;5;241m.\u001b[39mto(device)\n\u001b[1;32m     45\u001b[0m     output \u001b[38;5;241m=\u001b[39m my_forward( model, input_data, label)\n",
      "\u001b[0;31mKeyboardInterrupt\u001b[0m: "
     ]
    }
   ],
   "source": [
    "model_ = None\n",
    "highest_test_acc = 0\n",
    "for i in range(epochs):\n",
    "    # print('EPOCH:', i + 1)\n",
    "    train_iter = iter(train_loader)\n",
    "    test_iter = iter(valid_loader)\n",
    "    ########################################\n",
    "    train_loss, train_acc = train(model, device, train_iter, optimizer, train_set, batch_size)\n",
    "    test_loss, test_acc = test(model, device, test_iter, valid_set, batch_size)\n",
    "    scheduler.step()\n",
    "    print( 'EPOCH: %03d, train_loss: %3f, train_acc: %3f, test_loss: %3f, test_acc: %3f'\n",
    "          % (i + 1, train_loss, train_acc, test_loss, test_acc))\n",
    "    if test_acc > highest_test_acc:\n",
    "        highest_test_acc = test_acc\n",
    "        model_ = copy.deepcopy(model)\n",
    "        print('Highest test accuracy: %3f' % highest_test_acc)\n",
    "        torch.save(model_, '../models/ImageNet_Pretrained.model')\n",
    "#     print( 'EPOCH: %03d, train_loss: %3f, train_acc: %3f' % (i + 1, train_loss, train_acc))\n",
    "\n",
    "# test_iter = iter(valid_loader)\n",
    "model = torch.load(\"/home/a611/Projects/gyc/Local_Features/models/ImageNet_Pretrained.model\", map_location=device)\n",
    "\n",
    "# test_loss, test_acc = test(model, device, test_iter, valid_set, batch_size)\n",
    "# print( 'test_loss: %3f, test_acc: %3f' % (test_loss, test_acc))"
   ]
  },
  {
   "cell_type": "code",
   "execution_count": null,
   "metadata": {},
   "outputs": [],
   "source": []
  }
 ],
 "metadata": {
  "interpreter": {
   "hash": "db547acdbe0d8c01ab0f92785cee0c5ffdcae5ee11abcdf1f9927c721543542e"
  },
  "kernelspec": {
   "display_name": "Python 3 (ipykernel)",
   "language": "python",
   "name": "python3"
  },
  "language_info": {
   "codemirror_mode": {
    "name": "ipython",
    "version": 3
   },
   "file_extension": ".py",
   "mimetype": "text/x-python",
   "name": "python",
   "nbconvert_exporter": "python",
   "pygments_lexer": "ipython3",
   "version": "3.9.10"
  }
 },
 "nbformat": 4,
 "nbformat_minor": 2
}
