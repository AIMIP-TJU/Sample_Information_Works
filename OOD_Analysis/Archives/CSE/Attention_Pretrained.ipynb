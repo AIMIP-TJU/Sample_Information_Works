{
 "cells": [
  {
   "cell_type": "code",
   "execution_count": 1,
   "metadata": {},
   "outputs": [],
   "source": [
    "from PIL import Image\n",
    "import numpy as np\n",
    "import cv2\n",
    "import os\n",
    "import random\n",
    "# import tensorwatch as tw\n",
    "\n",
    "import torch\n",
    "import torch.nn as nn\n",
    "import torch.optim as optim\n",
    "from torchvision import transforms\n",
    "from torch.optim.lr_scheduler import StepLR\n",
    "import matplotlib.pyplot as plt\n",
    "\n",
    "from utils.dataset import *\n",
    "import torch.utils.data as data\n",
    "\n",
    "from vit_rollout import VITAttentionRollout\n",
    "\n",
    "from utils.train import *\n",
    "from utils.test  import *\n",
    "from utils.CLS2IDX import CLS2IDX"
   ]
  },
  {
   "cell_type": "code",
   "execution_count": 2,
   "metadata": {},
   "outputs": [],
   "source": [
    "# Training settings\n",
    "epochs = 1\n",
    "lr = 3e-6\n",
    "gamma = 0.7\n",
    "seed = 42\n",
    "device = 'cpu'\n",
    "\n",
    "file_Path = '/home/a611/Projects/Datasets/CSE_v1/images/'\n",
    "train_name = ['/home/a611/Projects/Datasets/CSE_v1/labels/train.csv']\n",
    "test_name = ['/home/a611/Projects/Datasets/CSE_v1/labels/test.csv']\n",
    "num_classes = 11\n",
    "num_input = 3\n",
    "batch_size = 128\n",
    "num_workers = 8\n",
    "########################\n",
    "os.chdir('examples')"
   ]
  },
  {
   "cell_type": "code",
   "execution_count": 3,
   "metadata": {},
   "outputs": [],
   "source": [
    "def show_mask_on_image(img, mask):\n",
    "    img = np.float32(img) / 255\n",
    "    heatmap = cv2.applyColorMap(np.uint8(255 * mask), cv2.COLORMAP_JET)\n",
    "    heatmap = np.float32(heatmap) / 255\n",
    "    cam = heatmap + np.float32(img)\n",
    "    cam = cam / np.max(cam)\n",
    "    return np.uint8(255 * cam)"
   ]
  },
  {
   "cell_type": "code",
   "execution_count": 4,
   "metadata": {},
   "outputs": [
    {
     "name": "stderr",
     "output_type": "stream",
     "text": [
      "Using cache found in /home/a611/.cache/torch/hub/facebookresearch_deit_main\n"
     ]
    }
   ],
   "source": [
    "# from tensorboardX import SummaryWriter\n",
    "# writer = SummaryWriter('log') #建立一个保存数据用的东西\n",
    "model = torch.hub.load('facebookresearch/deit:main', \n",
    "    'deit_tiny_patch16_224', pretrained=True)\n",
    "# model = torch.load('../models/CSE_train.model')\n",
    "# model.head = nn.Linear(in_features = model.head.in_features, out_features = num_classes, bias = True)\n",
    "model.to(device);"
   ]
  },
  {
   "cell_type": "markdown",
   "metadata": {
    "id": "ZEIyZaYXRkZF"
   },
   "source": [
    "## Load Data"
   ]
  },
  {
   "cell_type": "code",
   "execution_count": 5,
   "metadata": {
    "id": "YKR5RaykR58x"
   },
   "outputs": [],
   "source": [
    "train_transforms = transforms.Compose(\n",
    "    [\n",
    "        transforms.Resize((224, 224)),\n",
    "        transforms.ToTensor(),\n",
    "    ]\n",
    ")\n",
    "\n",
    "val_transforms = transforms.Compose(\n",
    "    [\n",
    "        transforms.Resize((224, 224)),\n",
    "        transforms.ToTensor(),\n",
    "    ]\n",
    ")\n",
    "\n",
    "\n",
    "test_transforms = transforms.Compose(\n",
    "    [\n",
    "        transforms.Resize((224, 224)),\n",
    "        transforms.ToTensor(),\n",
    "    ]\n",
    ")"
   ]
  },
  {
   "cell_type": "code",
   "execution_count": 6,
   "metadata": {},
   "outputs": [],
   "source": [
    "def draw(x, output):\n",
    "    output_max = output.argmax(dim=1)\n",
    "    output_numpy = output.cpu().detach().numpy()\n",
    "    fig, ax = plt.subplots(figsize=(12, 8))\n",
    "    y = output_numpy[0]\n",
    "    ax.bar(x = x, height = y)\n",
    "    ax.set_title('Item: %s.' % x[int(output_max)], fontsize=15);\n",
    "    xticks = ax.get_xticks()\n",
    "#     for i in range(len(y)):\n",
    "#         xy = (xticks[i], y[i])\n",
    "#         s = '%03f' % y[i]\n",
    "#         ax.annotate(\n",
    "#             text=s,  # 要添加的文本\n",
    "#             xy=xy,  # 将文本添加到哪个位置\n",
    "#             fontsize=8,  # 标签大小\n",
    "#             color=\"red\",  # 标签颜色\n",
    "#             ha=\"center\",  # 水平对齐\n",
    "#             va=\"baseline\"  # 垂直对齐\n",
    "#         )\n",
    "    return output_max\n",
    "\n",
    "def result(x, output, input_type):\n",
    "    output_max = output.argmax(dim=1)\n",
    "    print('Input: %s; Item: %s.' % (input_type, x[int(output_max)]))\n",
    "    return output_max"
   ]
  },
  {
   "cell_type": "code",
   "execution_count": 7,
   "metadata": {
    "scrolled": true
   },
   "outputs": [
    {
     "name": "stdout",
     "output_type": "stream",
     "text": [
      "Input: origin; Item: coffee mug.\n",
      "Input: weight; Item: coffee mug.\n",
      "Input: origin; Item: beagle.\n",
      "Input: weight; Item: Brittany spaniel.\n",
      "Input: origin; Item: toilet tissue, toilet paper, bathroom tissue.\n",
      "Input: weight; Item: toilet tissue, toilet paper, bathroom tissue.\n",
      "Input: origin; Item: coffeepot.\n",
      "Input: weight; Item: coffee mug.\n",
      "Input: origin; Item: iPod.\n",
      "Input: weight; Item: pill bottle.\n",
      "Input: origin; Item: pomegranate.\n",
      "Input: weight; Item: Granny Smith.\n",
      "Input: origin; Item: aircraft carrier, carrier, flattop, attack aircraft carrier.\n",
      "Input: weight; Item: table lamp.\n",
      "Input: origin; Item: traffic light, traffic signal, stoplight.\n",
      "Input: weight; Item: cab, hack, taxi, taxicab.\n",
      "Input: origin; Item: lemon.\n",
      "Input: weight; Item: nematode, nematode worm, roundworm.\n",
      "Input: origin; Item: palace.\n",
      "Input: weight; Item: palace.\n",
      "Input: origin; Item: iPod.\n",
      "Input: weight; Item: iPod.\n",
      "Input: origin; Item: banana.\n",
      "Input: weight; Item: nematode, nematode worm, roundworm.\n",
      "Input: origin; Item: trench coat.\n",
      "Input: weight; Item: military uniform.\n",
      "Input: origin; Item: lemon.\n",
      "Input: weight; Item: bubble.\n"
     ]
    }
   ],
   "source": [
    "model.eval()\n",
    "discard_ratio = 0.9\n",
    "head_fusion = 'max'\n",
    "\n",
    "#########################################\n",
    "for input_file_name in os.listdir('inputs'):\n",
    "#     input_file_name = 'iPod_1.jpg'\n",
    "    image_name = os.path.join('inputs',input_file_name)\n",
    "    image = Image.open(image_name)\n",
    "    img = image.resize((224, 224))\n",
    "    input = test_transforms(image).unsqueeze(0)\n",
    "    input = input.to(device)\n",
    "    output = model(input)\n",
    "    # output_max = draw(list(CLS2IDX.values()), output)\n",
    "    output_max = result(list(CLS2IDX.values()), output, 'origin')\n",
    "\n",
    "    #########################################\n",
    "    # How to fuse the attention heads for attention rollout. Can be mean/max/min.\n",
    "    attention_rollout = VITAttentionRollout(model, head_fusion = head_fusion, discard_ratio = discard_ratio)\n",
    "    mask = attention_rollout(input)\n",
    "    # name = \"outputs/{}_{}_A-R_{:.3f}_{}.png\".format(input_file_name.split('.')[0], label_key[int(output_max)], discard_ratio, head_fusion)\n",
    "    output_name = \"outputs/Image-Net/{}:{}.png\".format(input_file_name.split('.')[0], CLS2IDX[int(output_max)])\n",
    "    heatmap_name = \"heatmaps/Image-Net/{}:{}.png\".format(input_file_name.split('.')[0], CLS2IDX[int(output_max)])\n",
    "    weight_name = \"weights/Image-Net/{}:{}.png\".format(input_file_name.split('.')[0], CLS2IDX[int(output_max)])\n",
    "    #########################################\n",
    "\n",
    "    np_img = np.array(image)[:, :, ::-1]\n",
    "    mask = cv2.resize(mask, (np_img.shape[1], np_img.shape[0]))\n",
    "    mask_ = show_mask_on_image(np_img, mask)\n",
    "\n",
    "    np_img_ = np.zeros(np_img.shape)\n",
    "    for t in range(np_img.shape[2]):\n",
    "        np_img_[:,:,t] = np_img[:,:,t] * mask\n",
    "        \n",
    "    input_ = Image.fromarray(np.uint8(np_img_))\n",
    "    input_ = test_transforms(input_).unsqueeze(0)\n",
    "    input_ = input_.to(device)\n",
    "    output_ = model(input_)\n",
    "    output_max_ = result(list(CLS2IDX.values()), output_, 'weight')\n",
    "\n",
    "    cv2.imwrite('../input.png', np_img);\n",
    "    cv2.imwrite('../heatmap.png', mask * 255);\n",
    "    cv2.imwrite(heatmap_name, mask * 255);\n",
    "    cv2.imwrite('../output.png', mask_);\n",
    "    cv2.imwrite(output_name, mask_);\n",
    "    cv2.imwrite('../weight.png', np_img_);\n",
    "    cv2.imwrite(weight_name, np_img_);"
   ]
  },
  {
   "cell_type": "code",
   "execution_count": null,
   "metadata": {},
   "outputs": [],
   "source": []
  }
 ],
 "metadata": {
  "interpreter": {
   "hash": "db547acdbe0d8c01ab0f92785cee0c5ffdcae5ee11abcdf1f9927c721543542e"
  },
  "kernelspec": {
   "display_name": "Python 3 (ipykernel)",
   "language": "python",
   "name": "python3"
  },
  "language_info": {
   "codemirror_mode": {
    "name": "ipython",
    "version": 3
   },
   "file_extension": ".py",
   "mimetype": "text/x-python",
   "name": "python",
   "nbconvert_exporter": "python",
   "pygments_lexer": "ipython3",
   "version": "3.9.10"
  }
 },
 "nbformat": 4,
 "nbformat_minor": 2
}
