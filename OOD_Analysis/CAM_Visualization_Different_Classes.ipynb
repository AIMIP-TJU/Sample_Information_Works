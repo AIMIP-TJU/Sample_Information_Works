{
 "cells": [
  {
   "cell_type": "code",
   "execution_count": 1,
   "metadata": {},
   "outputs": [],
   "source": [
    "from PIL import Image\n",
    "import numpy as np\n",
    "import pandas as pd\n",
    "import cv2\n",
    "import os\n",
    "import random\n",
    "import matplotlib.pyplot as plt\n",
    "# import tensorwatch as tw\n",
    "import time\n",
    "\n",
    "import torch\n",
    "import copy\n",
    "import torch.nn as nn\n",
    "import torch.optim as optim\n",
    "from torchvision import transforms\n",
    "from torch.optim.lr_scheduler import StepLR\n",
    "\n",
    "from utils.dataset import *\n",
    "import torch.utils.data as data\n",
    "\n",
    "from utils.train import *\n",
    "from utils.test  import *\n",
    "from utils.model_select import model_select\n",
    "\n",
    "from pytorch_grad_cam import GradCAM\n",
    "from pytorch_grad_cam.utils.image import show_cam_on_image\n",
    "from pytorch_grad_cam.utils.model_targets import ClassifierOutputTarget"
   ]
  },
  {
   "cell_type": "code",
   "execution_count": 2,
   "metadata": {},
   "outputs": [],
   "source": [
    "# Training settings\n",
    "####### test作训练集 #######\n",
    "# epochs = 80\n",
    "# lr = 3e-6\n",
    "# gamma = 0.7\n",
    "# step_size = 5\n",
    "###### train作训练集 #######\n",
    "epochs = 5\n",
    "lr = 2e-6\n",
    "gamma = 0.8\n",
    "step_size = 2\n",
    "\n",
    "seed = 42\n",
    "device = 'cuda:1'\n",
    "\n",
    "file_Path = '/home/a611/Projects/Datasets/CSE_v1/images/'\n",
    "train_name = ['/home/a611/Projects/Datasets/CSE_v1/labels/train_aver_75.csv']\n",
    "test_name = ['/home/a611/Projects/Datasets/CSE_v1/labels/train_aver_25.csv']\n",
    "num_classes = 11\n",
    "num_input = 3\n",
    "batch_size = 16\n",
    "num_workers = 8\n",
    "########################\n",
    "os.chdir('examples')"
   ]
  },
  {
   "cell_type": "code",
   "execution_count": 3,
   "metadata": {},
   "outputs": [],
   "source": [
    "def seed_everything(seed):\n",
    "    random.seed(seed)\n",
    "    os.environ['PYTHONHASHSEED'] = str(seed)\n",
    "    np.random.seed(seed)\n",
    "    torch.manual_seed(seed)\n",
    "    torch.cuda.manual_seed(seed)\n",
    "    torch.cuda.manual_seed_all(seed)\n",
    "    torch.backends.cudnn.deterministic = True\n",
    "\n",
    "seed_everything(seed)"
   ]
  },
  {
   "cell_type": "markdown",
   "metadata": {
    "id": "ZEIyZaYXRkZF"
   },
   "source": [
    "## Load Data"
   ]
  },
  {
   "cell_type": "code",
   "execution_count": 4,
   "metadata": {
    "id": "YKR5RaykR58x"
   },
   "outputs": [],
   "source": [
    "train_transforms = transforms.Compose(\n",
    "    [\n",
    "        transforms.RandomResizedCrop(224),\n",
    "        transforms.RandomHorizontalFlip(),\n",
    "        transforms.ToTensor(),\n",
    "    ]\n",
    ")\n",
    "\n",
    "val_transforms = transforms.Compose(\n",
    "    [\n",
    "        transforms.Resize((224, 224)),\n",
    "        transforms.ToTensor(),\n",
    "    ]\n",
    ")\n",
    "\n",
    "\n",
    "test_transforms = transforms.Compose(\n",
    "    [\n",
    "        transforms.Resize((224, 224)),\n",
    "        transforms.ToTensor(),\n",
    "    ]\n",
    ")"
   ]
  },
  {
   "cell_type": "markdown",
   "metadata": {
    "id": "b0JAXWWtSXpB"
   },
   "source": [
    "## Load Datasets"
   ]
  },
  {
   "cell_type": "code",
   "execution_count": 5,
   "metadata": {
    "id": "pC-D9a8xSZNd"
   },
   "outputs": [],
   "source": [
    "label_map = get_map(test_name)\n",
    "label_key = list(label_map.keys())\n",
    "train_set = MyDataset(file_Path, train_name, label_map,\n",
    "                            train_transforms)\n",
    "train_loader = data.DataLoader(\n",
    "    dataset=train_set, batch_size=batch_size, shuffle=True, num_workers=num_workers)\n",
    "\n",
    "valid_set = MyDataset(file_Path, test_name, label_map,\n",
    "                            val_transforms)\n",
    "valid_loader = data.DataLoader(\n",
    "    dataset=valid_set, batch_size=batch_size, shuffle=True, num_workers=num_workers)"
   ]
  },
  {
   "cell_type": "code",
   "execution_count": 6,
   "metadata": {
    "colab": {
     "base_uri": "https://localhost:8080/",
     "height": 34
    },
    "id": "JiIcaG1zSZLA",
    "outputId": "bd4d6e91-6c28-4b42-f242-246250dc55f2"
   },
   "outputs": [
    {
     "name": "stdout",
     "output_type": "stream",
     "text": [
      "557\n",
      "186\n"
     ]
    }
   ],
   "source": [
    "print(len(train_loader))\n",
    "print(len(valid_loader))"
   ]
  },
  {
   "cell_type": "markdown",
   "metadata": {
    "id": "TF9yMaRrSvmv"
   },
   "source": [
    "## Effecient Attention"
   ]
  },
  {
   "cell_type": "markdown",
   "metadata": {
    "id": "4u5YZG1eozIv"
   },
   "source": [
    "### Training"
   ]
  },
  {
   "cell_type": "code",
   "execution_count": 7,
   "metadata": {},
   "outputs": [],
   "source": [
    "model = model_select('ResNet18', num_input, 90).to(device)\n",
    "# print(model)\n",
    "model = torch.nn.DataParallel(model)\n",
    "model_state_disk = torch.load('/home/a611/Projects/msk/fewshot_main/Model/pretrain/ResNet18/test_acc_0.766925_epoch_159')\n",
    "model.load_state_dict(model_state_disk)\n",
    "model = model.module\n",
    "model.linear = torch.nn.Linear(512, num_classes)\n",
    "\n",
    "model = model.to(device)\n",
    "# print(model)\n",
    "\n",
    "# loss function\n",
    "criterion = nn.CrossEntropyLoss()\n",
    "# optimizer\n",
    "optimizer = optim.Adam(model.parameters(), lr=lr)\n",
    "# scheduler\n",
    "scheduler = StepLR(optimizer, step_size=step_size, gamma=gamma)"
   ]
  },
  {
   "cell_type": "code",
   "execution_count": 8,
   "metadata": {
    "scrolled": false
   },
   "outputs": [],
   "source": [
    "# model_ = None\n",
    "# highest_test_acc = 0\n",
    "# for i in range(epochs):\n",
    "#     # print('EPOCH:', i + 1)\n",
    "#     train_iter = iter(train_loader)\n",
    "#     test_iter = iter(valid_loader)\n",
    "#     ########################################\n",
    "#     train_loss, train_acc = train(model, device, train_iter, optimizer, train_set, batch_size)\n",
    "#     test_loss, test_acc = test(model, device, test_iter, valid_set, batch_size)\n",
    "#     scheduler.step()\n",
    "#     print( 'EPOCH: %03d, train_loss: %3f, train_acc: %3f, test_loss: %3f, test_acc: %3f'\n",
    "#           % (i + 1, train_loss, train_acc, test_loss, test_acc))\n",
    "#     if test_acc > highest_test_acc:\n",
    "#         highest_test_acc = test_acc\n",
    "#         model_ = copy.deepcopy(model)\n",
    "#         print('Highest test accuracy: %3f' % highest_test_acc)\n",
    "#         torch.save(model_, '../models/CSE_train.model')\n",
    "# #     print( 'EPOCH: %03d, train_loss: %3f, train_acc: %3f' % (i + 1, train_loss, train_acc))"
   ]
  },
  {
   "cell_type": "code",
   "execution_count": 9,
   "metadata": {},
   "outputs": [],
   "source": [
    "model = torch.load('../models/CSE_train.model')\n",
    "# print(model.layer4)"
   ]
  },
  {
   "cell_type": "code",
   "execution_count": 36,
   "metadata": {},
   "outputs": [],
   "source": [
    "def draw(x, output):\n",
    "    output_max = output.argmax(dim=1)\n",
    "    output_numpy = output.cpu().detach().numpy()\n",
    "    fig, ax = plt.subplots(figsize=(12, 8))\n",
    "    y = output_numpy[0]\n",
    "    ax.bar(x = x, height = y)\n",
    "    ax.set_title('Item: %s.' % x[int(output_max)], fontsize=15);\n",
    "    xticks = ax.get_xticks()\n",
    "    for i in range(len(y)):\n",
    "        xy = (xticks[i], y[i])\n",
    "        s = '%03f' % y[i]\n",
    "        ax.annotate(\n",
    "            text=s,  # 要添加的文本\n",
    "            xy=xy,  # 将文本添加到哪个位置\n",
    "            fontsize=8,  # 标签大小\n",
    "            color=\"red\",  # 标签颜色\n",
    "            ha=\"center\",  # 水平对齐\n",
    "            va=\"baseline\"  # 垂直对齐\n",
    "        )\n",
    "        plt.savefig(\"../distribution.jpg\")\n",
    "    return output_max\n",
    "\n",
    "def result(x, output, input_type):\n",
    "    output_max = output.argmax(dim=1)\n",
    "    print('Input: %s; Item: %s.' % (input_type, x[int(output_max)]))\n",
    "    return output_max"
   ]
  },
  {
   "cell_type": "code",
   "execution_count": 52,
   "metadata": {},
   "outputs": [
    {
     "name": "stdout",
     "output_type": "stream",
     "text": [
      "Input: pepper_66_chess.jpg; Item: pepper.\n",
      "Considered as apple.\n",
      "Considered as bottle.\n",
      "Considered as car.\n",
      "Considered as container.\n",
      "Considered as cup.\n",
      "Considered as doll.\n",
      "Considered as fleet.\n",
      "Considered as headset.\n",
      "Considered as milk.\n",
      "Considered as pepper.\n",
      "Considered as plant.\n"
     ]
    },
    {
     "data": {
      "image/png": "[encoded data removed]",
      "text/plain": [
       "<Figure size 864x576 with 1 Axes>"
      ]
     },
     "metadata": {
      "needs_background": "light"
     },
     "output_type": "display_data"
    }
   ],
   "source": [
    "device = 'cpu'\n",
    "model.eval()\n",
    "model.to(device)\n",
    "target_layers = [model.layer4[-1]]\n",
    "cam = GradCAM(model=model, target_layers=target_layers, use_cuda=False)\n",
    "#########################################\n",
    "# # for input_file_name in os.listdir('inputs'):\n",
    "# input_file_name = 'doll_86.jpg'\n",
    "# image_name = os.path.join('inputs',input_file_name)\n",
    "# image = Image.open(image_name)\n",
    "# img = image.resize((224, 224))\n",
    "# input = test_transforms(image).unsqueeze(0)\n",
    "# input = input.to(device)\n",
    "# output = model(input)\n",
    "# # output_max = draw(label_key, output)\n",
    "# output_max = result(label_key, output, 'origin')\n",
    "# output_max = draw(label_key, output, 'origin')\n",
    "\n",
    "root_dir = '../sample_pairs'\n",
    "\n",
    "catagories = os.listdir(root_dir)\n",
    "catagories.sort()\n",
    "\n",
    "rotation = 'same'\n",
    "background = 'same'\n",
    "image_name = 'pepper_66_chess.jpg'\n",
    "\n",
    "image_path = '/home/a611/Projects/gyc/Local_Features/sample_pairs/%s_rotation_%s_background/%s' % (rotation, background, image_name)\n",
    "image = Image.open(image_path)\n",
    "img = image.resize((224, 224))\n",
    "input = test_transforms(image).unsqueeze(0)\n",
    "input = input.to(device)\n",
    "output = model(input)\n",
    "# print(output)\n",
    "output_max = draw(label_key, output)\n",
    "output_max = result(label_key, output, image_name)\n",
    "#         output_max = draw(label_key, output, '%s, %s.' %(catagory, item))\n",
    "for real_index in range(11):\n",
    "    targets = [ClassifierOutputTarget(real_index)]\n",
    "    grayscale_cam = cam(input_tensor=input, targets = targets)\n",
    "    grayscale_cam = grayscale_cam[0, :]\n",
    "    image_ = np.array(image, dtype=np.float32) / 255\n",
    "    grayscale_cam = cv2.resize(grayscale_cam, (image_.shape[1], image_.shape[0]))\n",
    "    visualization = show_cam_on_image(image_, grayscale_cam, use_rgb=True)\n",
    "\n",
    "    im = Image.fromarray(visualization)\n",
    "\n",
    "    im.save(\"../output.jpg\")\n",
    "    print('Considered as %s.' % label_key[real_index])\n",
    "    time.sleep(2)"
   ]
  },
  {
   "cell_type": "code",
   "execution_count": null,
   "metadata": {},
   "outputs": [],
   "source": []
  }
 ],
 "metadata": {
  "interpreter": {
   "hash": "db547acdbe0d8c01ab0f92785cee0c5ffdcae5ee11abcdf1f9927c721543542e"
  },
  "kernelspec": {
   "display_name": "Python 3 (ipykernel)",
   "language": "python",
   "name": "python3"
  },
  "language_info": {
   "codemirror_mode": {
    "name": "ipython",
    "version": 3
   },
   "file_extension": ".py",
   "mimetype": "text/x-python",
   "name": "python",
   "nbconvert_exporter": "python",
   "pygments_lexer": "ipython3",
   "version": "3.9.10"
  }
 },
 "nbformat": 4,
 "nbformat_minor": 2
}
